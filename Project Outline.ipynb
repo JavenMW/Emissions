{
 "cells": [
  {
   "cell_type": "markdown",
   "metadata": {},
   "source": [
    "# Project Outline"
   ]
  },
  {
   "cell_type": "markdown",
   "metadata": {},
   "source": [
    "This project will be outlined using the Data Science methodology that was coined by IBM's John Rollins."
   ]
  },
  {
   "cell_type": "markdown",
   "metadata": {},
   "source": [
    "## Business Understanding\n",
    "For this project's problem statement, ChatGPT will be used to generate a problem statement based off of the dataset."
   ]
  },
  {
   "cell_type": "markdown",
   "metadata": {},
   "source": [
    "### Project Statement\n",
    "The government or a research organization wants to predict the CO2 emissions of vehicles based on their attributes (e.g., engine size, weight, fuel type, model year). This could help policymakers create regulations for reducing CO2 emissions, or consumers could use this information to select vehicles with lower emissions.\n",
    "\n",
    "### Expected Outcome\n",
    "- A model that accurately predicts CO2 emissions based on vehicle features.\n",
    "- Insights into which vehicle attributes (like engine size, fuel type, or weight) are the most important predictors."
   ]
  },
  {
   "cell_type": "markdown",
   "metadata": {},
   "source": [
    "## Analytic Approach\n",
    "Since our client is wanting to know what will happen based on vehicle traits, predictive analysis will be our best approach to solving this problem."
   ]
  },
  {
   "cell_type": "markdown",
   "metadata": {},
   "source": [
    "### Predicitive Analysis\n",
    "- Since our datasets contains categorical variables, we are going to use a different types of classification models.\n",
    "    1. Multinomial Logit Regression - for simplicity\n",
    "    2. Decision Trees - for readability\n",
    "    3. Random Forests - for high-dimensionality\n",
    "    4. Gradince Boosted Machines (GBM) - high performance\n",
    "    5. K-Nearest Neighbors (KNN) - for easy implementation"
   ]
  },
  {
   "cell_type": "markdown",
   "metadata": {},
   "source": [
    "## Data Requirements\n",
    "Identify any confounding errors and the necessary and relevant features"
   ]
  },
  {
   "cell_type": "markdown",
   "metadata": {},
   "source": [
    "Confounding errors: Commercial vehicles \n",
    "- vehicles such as busses, dump trucks, and 18 wheelers will likely have higher emissions\n",
    "\n",
    "Relevant features\n",
    "- Engine size\n",
    "- gas type\n",
    "- vehicle type\n",
    "- MPG rating"
   ]
  },
  {
   "cell_type": "markdown",
   "metadata": {},
   "source": [
    "## Data Collection\n",
    "No API's, no databases, we are just going to be using a simple kaggle dataset."
   ]
  },
  {
   "cell_type": "markdown",
   "metadata": {},
   "source": [
    "Kaggle dataset: path = kagglehub.dataset_download(\"debajyotipodder/co2-emission-by-vehicles\")"
   ]
  },
  {
   "cell_type": "markdown",
   "metadata": {},
   "source": [
    "## Data Understanding\n",
    "Understand relationships, visualize outliers, identify bad data, and form your story."
   ]
  },
  {
   "cell_type": "markdown",
   "metadata": {},
   "source": [
    "EDA\n",
    "- Note relations between C02 emissions and other variables (and any correlations between independent variables)\n",
    "- Identify unique values within make, model, vehicle class, and transmission\n",
    "- Visualize outliers with box and whisker plots\n",
    "- Identify skewness with histograms\n",
    "- Make assumptions about my data to formulate a story\n",
    "\n"
   ]
  },
  {
   "cell_type": "markdown",
   "metadata": {},
   "source": [
    "## Data Prepartation\n",
    "Clean data in accordance with the indentified bad data. Select and engineer features."
   ]
  },
  {
   "cell_type": "markdown",
   "metadata": {},
   "source": [
    "Feature Engineering\n",
    "- Combine engine size and fuel consumption to obtain a sort of efficiency rating. The higher the more efficient the vehicle is.\n",
    "- Same thing with Cylinders and fuel consumption\n",
    "\n",
    "Feature Selection\n",
    "- Utilize stepwise correlation to identify useful variables\n",
    "- Forward selection\n",
    "- Correlation Matrix to identify highly correlated features\n"
   ]
  },
  {
   "cell_type": "markdown",
   "metadata": {},
   "source": [
    "## Modeling"
   ]
  },
  {
   "cell_type": "markdown",
   "metadata": {},
   "source": [
    "## Evaluation"
   ]
  },
  {
   "cell_type": "markdown",
   "metadata": {},
   "source": [
    "## Deployment"
   ]
  },
  {
   "cell_type": "markdown",
   "metadata": {},
   "source": [
    "## Feedback"
   ]
  }
 ],
 "metadata": {
  "kernelspec": {
   "display_name": "Python 3",
   "language": "python",
   "name": "python3"
  },
  "language_info": {
   "codemirror_mode": {
    "name": "ipython",
    "version": 3
   },
   "file_extension": ".py",
   "mimetype": "text/x-python",
   "name": "python",
   "nbconvert_exporter": "python",
   "pygments_lexer": "ipython3",
   "version": "3.13.2"
  }
 },
 "nbformat": 4,
 "nbformat_minor": 2
}
